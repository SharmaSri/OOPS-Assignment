{
  "nbformat": 4,
  "nbformat_minor": 0,
  "metadata": {
    "colab": {
      "provenance": []
    },
    "kernelspec": {
      "name": "python3",
      "display_name": "Python 3"
    },
    "language_info": {
      "name": "python"
    }
  },
  "cells": [
    {
      "cell_type": "markdown",
      "source": [
        " What are the five key concepts of Object-Oriented Programming (OOP)"
      ],
      "metadata": {
        "id": "A3pvVI5FUO85"
      }
    },
    {
      "cell_type": "markdown",
      "source": [
        "1. Encapsulation\n",
        "Definition: Encapsulation refers to the bundling of data (attributes) and methods (functions) that operate on the data into a single unit or object. It restricts direct access to some components of an object, which is usually achieved through access modifiers (e.g., private, protected, public).\n",
        "Purpose: Promotes modularity, protects the internal state of objects, and ensures that objects control how their data is accessed or modified.\n",
        "2. Abstraction\n",
        "Definition: Abstraction involves hiding the complex implementation details of a system and exposing only the essential features to the user.\n",
        "Purpose: Simplifies the design and usage of complex systems by focusing on high-level functionalities rather than low-level implementation details.\n",
        "3. Inheritance\n",
        "Definition: Inheritance allows one class (called the child or derived class) to acquire properties and methods of another class (called the parent or base class).\n",
        "Purpose: Promotes code reuse, establishes a hierarchical relationship between classes, and simplifies maintenance by enabling extensions or modifications of behavior.\n",
        "4. Polymorphism\n",
        "Definition: Polymorphism allows objects to be treated as instances of their parent class rather than their actual class. It enables the same operation to behave differently on different classes.\n",
        "Purpose: Increases flexibility and scalability by allowing methods to be overridden or overloaded.\n",
        "5. Composition (or Association)\n",
        "Definition: Composition involves building complex objects by combining simpler ones. Instead of relying solely on inheritance, objects can work together through relationships (e.g., \"has-a\" relationships).\n",
        "Purpose: Promotes code reuse, avoids overuse of inheritance, and allows more flexible system designs.\n"
      ],
      "metadata": {
        "id": "CSc1_kDqUZse"
      }
    },
    {
      "cell_type": "markdown",
      "source": [
        " Write a Python class for a `Car` with attributes for `make`, `model`, and `year`. Include a method to display\n",
        "the car's information"
      ],
      "metadata": {
        "id": "2jDptfLUUsIt"
      }
    },
    {
      "cell_type": "code",
      "source": [
        "class Car:\n",
        "    def __init__(self, make, model, year):\n",
        "        \"\"\"\n",
        "        Initialize a new Car object with make, model, and year.\n",
        "        \"\"\"\n",
        "        self.make = make\n",
        "        self.model = model\n",
        "        self.year = year\n",
        "\n",
        "    def display_info(self):\n",
        "        \"\"\"\n",
        "        Display the car's information.\n",
        "        \"\"\"\n",
        "        print(f\"Car Information: {self.year} {self.make} {self.model}\")\n",
        "\n",
        "\n",
        "# Example usage:\n",
        "my_car = Car(\"Toyota\", \"Camry\", 2020)\n",
        "my_car.display_info()\n"
      ],
      "metadata": {
        "colab": {
          "base_uri": "https://localhost:8080/"
        },
        "id": "7vhtl-4CUuNO",
        "outputId": "f2287df8-b6ac-43ca-cf35-aa953b7a4c15"
      },
      "execution_count": null,
      "outputs": [
        {
          "output_type": "stream",
          "name": "stdout",
          "text": [
            "Car Information: 2020 Toyota Camry\n"
          ]
        }
      ]
    },
    {
      "cell_type": "markdown",
      "source": [
        " Explain the difference between instance methods and class methods. Provide an example of each"
      ],
      "metadata": {
        "id": "rhScLrS1YWGm"
      }
    },
    {
      "cell_type": "markdown",
      "source": [
        "Instance methods and class methods are two types of methods in object-oriented programming that are used to perform specific operations within a class, but they differ in how they operate and what they act upon.\n",
        "\n",
        "Instance Methods\n",
        "Definition: Methods that operate on an instance of a class.\n",
        "How to Call: Called on an object (an instance of the class).\n",
        "Access: Have access to instance variables (self) and can also access class variables.\n",
        "Use Case: Typically used to manipulate or fetch data related to an individual object."
      ],
      "metadata": {
        "id": "SYOW8CaxYWDu"
      }
    },
    {
      "cell_type": "code",
      "source": [
        "class Dog:\n",
        "   def __init__(self, name, breed):\n",
        "      self.name = name\n",
        "      self.breed = breed\n",
        "\n",
        "   def describe(self):\n",
        "      return f\"{self.name} is a {self.breed}.\"\n",
        "\n",
        "my_dog = Dog(\"Hulk\", \"German Shepherd\")\n",
        "print(my_dog.describe())"
      ],
      "metadata": {
        "colab": {
          "base_uri": "https://localhost:8080/"
        },
        "id": "RMYF7F0_oHur",
        "outputId": "ef084427-1bbf-4efb-a26b-e112338027e5"
      },
      "execution_count": 2,
      "outputs": [
        {
          "output_type": "stream",
          "name": "stdout",
          "text": [
            "Hulk is a German Shepherd.\n"
          ]
        }
      ]
    },
    {
      "cell_type": "markdown",
      "source": [
        "Class Methods\n",
        "Definition: Methods that operate on the class itself rather than an instance.\n",
        "How to Call: Called on the class itself, not on an instance.\n",
        "Access: Have access to class variables through the cls parameter but do not have access to instance variables.\n",
        "Decorator: Defined using the @classmethod decorator.\n",
        "Use Case: Often used for factory methods or methods that operate on class-level data."
      ],
      "metadata": {
        "id": "biYiEzNkrW6l"
      }
    },
    {
      "cell_type": "code",
      "source": [
        "class Dog:\n",
        "  species = \"Pitbull\"\n",
        "  def __init__(self, name, breed):\n",
        "    self.name = name\n",
        "    self.breed = breed\n",
        "  @classmethod\n",
        "  def get_species(cls):\n",
        "    return f\" All dogs are {cls.species}.\"\n",
        "print(Dog.get_species())"
      ],
      "metadata": {
        "colab": {
          "base_uri": "https://localhost:8080/"
        },
        "id": "6F6aamoLrZ_n",
        "outputId": "bf1143c7-9732-4f78-b08e-ccd0ae060495"
      },
      "execution_count": 4,
      "outputs": [
        {
          "output_type": "stream",
          "name": "stdout",
          "text": [
            " All dogs are Pitbull.\n"
          ]
        }
      ]
    },
    {
      "cell_type": "markdown",
      "source": [
        " How does Python implement method overloading? Give an example"
      ],
      "metadata": {
        "id": "4gyjY5RitOh_"
      }
    },
    {
      "cell_type": "code",
      "source": [
        "class Calculator:\n",
        "  def add(self, a, b=0, c=0):\n",
        "    return a + b + c\n",
        "\n",
        "calc = Calculator()\n",
        "print(calc.add(12))\n",
        "print(calc.add(34,65))\n",
        "print(calc.add(321, 543, 12))"
      ],
      "metadata": {
        "colab": {
          "base_uri": "https://localhost:8080/"
        },
        "id": "bUlJlPAAtb25",
        "outputId": "484467f4-8d76-4e19-e9df-b8e1ef7b4489"
      },
      "execution_count": 5,
      "outputs": [
        {
          "output_type": "stream",
          "name": "stdout",
          "text": [
            "12\n",
            "99\n",
            "876\n"
          ]
        }
      ]
    },
    {
      "cell_type": "markdown",
      "source": [
        " Variable-Length Arguments\n",
        "Using *args and **kwargs, you can handle a variable number of arguments, allowing the method to adapt to different argument patterns."
      ],
      "metadata": {
        "id": "Y_d--kLHuEVs"
      }
    },
    {
      "cell_type": "code",
      "source": [
        "class Calculator:\n",
        "    def add(self, *args):\n",
        "        return sum(args)\n",
        "\n",
        "calc = Calculator()\n",
        "print(calc.add(11))\n",
        "print(calc.add(1023, 2021))\n",
        "print(calc.add(10584, 22, 31110))\n"
      ],
      "metadata": {
        "colab": {
          "base_uri": "https://localhost:8080/"
        },
        "id": "Dlul-v5duFKx",
        "outputId": "e840de76-57d8-4101-b8a8-aaeace09681d"
      },
      "execution_count": 7,
      "outputs": [
        {
          "output_type": "stream",
          "name": "stdout",
          "text": [
            "11\n",
            "3044\n",
            "41716\n"
          ]
        }
      ]
    },
    {
      "cell_type": "markdown",
      "source": [
        "Using Conditional Logic\n",
        "You can inspect the type or number of arguments at runtime to define custom behavior."
      ],
      "metadata": {
        "id": "MYwYi_QyuV53"
      }
    },
    {
      "cell_type": "code",
      "source": [
        "class Calculator:\n",
        "    def operate(self, *args):\n",
        "        if len(args) == 1:\n",
        "            return args[0] ** 2\n",
        "        elif len(args) == 2:\n",
        "            return args[0] + args[1]\n",
        "        else:\n",
        "            return \"Invalid number of arguments!\"\n",
        "\n",
        "calc = Calculator()\n",
        "print(calc.operate(5))\n",
        "print(calc.operate(9755, 111110))\n",
        "print(calc.operate(234525, 134560, 150000))\n"
      ],
      "metadata": {
        "colab": {
          "base_uri": "https://localhost:8080/"
        },
        "id": "elfNY4xMuWiK",
        "outputId": "edeee95f-5f48-4ba0-aef0-d71563c1fae6"
      },
      "execution_count": 9,
      "outputs": [
        {
          "output_type": "stream",
          "name": "stdout",
          "text": [
            "25\n",
            "120865\n",
            "Invalid number of arguments!\n"
          ]
        }
      ]
    },
    {
      "cell_type": "markdown",
      "source": [
        " What are the three types of access modifiers in Python? How are they denoted"
      ],
      "metadata": {
        "id": "QF8TL1t8uwVK"
      }
    },
    {
      "cell_type": "markdown",
      "source": [
        "Public\n",
        "Definition: Members (attributes or methods) declared as public are accessible from anywhere, both inside and outside the class.\n",
        "How to Declare: By default, all members in Python are public unless specified otherwise. No special syntax is needed."
      ],
      "metadata": {
        "id": "P4CYXkpou2Br"
      }
    },
    {
      "cell_type": "code",
      "source": [
        "class Example:\n",
        "    def __init__(self):\n",
        "        self.public_var = \"I am public\"\n",
        "\n",
        "obj = Example()\n",
        "print(obj.public_var)\n"
      ],
      "metadata": {
        "colab": {
          "base_uri": "https://localhost:8080/"
        },
        "id": "Iuo4MRWzu25m",
        "outputId": "6982c135-a2bb-468c-80c6-45808feb815c"
      },
      "execution_count": 10,
      "outputs": [
        {
          "output_type": "stream",
          "name": "stdout",
          "text": [
            "I am public\n"
          ]
        }
      ]
    },
    {
      "cell_type": "markdown",
      "source": [
        "Protected\n",
        "Definition: Members declared as protected are intended to be accessible only within the class and its subclasses. However, Python does not enforce strict access control, so these members can still be accessed outside the class (as a convention, they shouldn't be).\n",
        "How to Declare: Use a single underscore _ as a prefix to the member's name."
      ],
      "metadata": {
        "id": "I-TSK2X4u9AO"
      }
    },
    {
      "cell_type": "code",
      "source": [
        "class Example:\n",
        "    def __init__(self):\n",
        "        self._protected_var = \"I am protected\"\n",
        "\n",
        "class SubExample(Example):\n",
        "    def access_protected(self):\n",
        "        return self._protected_var\n",
        "\n",
        "obj = SubExample()\n",
        "print(obj.access_protected())\n",
        "print(obj._protected_var)\n"
      ],
      "metadata": {
        "colab": {
          "base_uri": "https://localhost:8080/"
        },
        "id": "UiHpLeQlu9zZ",
        "outputId": "8ddf376e-4366-49ce-9627-12d1aafb3c4c"
      },
      "execution_count": 11,
      "outputs": [
        {
          "output_type": "stream",
          "name": "stdout",
          "text": [
            "I am protected\n",
            "I am protected\n"
          ]
        }
      ]
    },
    {
      "cell_type": "markdown",
      "source": [
        "Private\n",
        "Definition: Members declared as private are accessible only within the class where they are defined. Python achieves this using name mangling, which changes the name of the private member to include the class name as a prefix.\n",
        "How to Declare: Use a double underscore __ as a prefix to the member's name."
      ],
      "metadata": {
        "id": "OzT-HLxMvFt7"
      }
    },
    {
      "cell_type": "code",
      "source": [
        "class Example:\n",
        "    def __init__(self):\n",
        "        self.__private_var = \"I am private\"\n",
        "\n",
        "    def access_private(self):\n",
        "        return self.__private_var\n",
        "\n",
        "obj = Example()\n",
        "print(obj.access_private())\n",
        "\n",
        "\n",
        "print(obj._Example__private_var)\n"
      ],
      "metadata": {
        "colab": {
          "base_uri": "https://localhost:8080/"
        },
        "id": "jYMQytWivGax",
        "outputId": "5a08fe20-dba2-4d3f-b909-2ef1a347ef47"
      },
      "execution_count": 12,
      "outputs": [
        {
          "output_type": "stream",
          "name": "stdout",
          "text": [
            "I am private\n",
            "I am private\n"
          ]
        }
      ]
    },
    {
      "cell_type": "markdown",
      "source": [
        " Describe the five types of inheritance in Python. Provide a simple example of multiple inheritance"
      ],
      "metadata": {
        "id": "xkERq7M2vgWE"
      }
    },
    {
      "cell_type": "markdown",
      "source": [
        "Single Inheritance\n",
        "Definition: A child class inherits from only one parent class.\n",
        "Use Case: Basic parent-child relationships."
      ],
      "metadata": {
        "id": "dJ7ZINWQvyOI"
      }
    },
    {
      "cell_type": "code",
      "source": [
        "class Parent:\n",
        "    def greet(self):\n",
        "        return \"Hello from Parent!\"\n",
        "\n",
        "class Child(Parent):\n",
        "    def greet_child(self):\n",
        "        return \"Hello from Child!\"\n",
        "\n",
        "obj = Child()\n",
        "print(obj.greet())\n",
        "print(obj.greet_child())\n"
      ],
      "metadata": {
        "colab": {
          "base_uri": "https://localhost:8080/"
        },
        "id": "lugrVwmTvy_4",
        "outputId": "f2b12982-2da2-471e-f5a1-d35dc0ca3b2b"
      },
      "execution_count": 13,
      "outputs": [
        {
          "output_type": "stream",
          "name": "stdout",
          "text": [
            "Hello from Parent!\n",
            "Hello from Child!\n"
          ]
        }
      ]
    },
    {
      "cell_type": "markdown",
      "source": [
        "Multiple Inheritance\n",
        "Definition: A child class inherits from more than one parent class.\n",
        "Use Case: Combining functionalities from multiple parent classes."
      ],
      "metadata": {
        "id": "0siRnOBFwCk5"
      }
    },
    {
      "cell_type": "code",
      "source": [
        "class Parent1:\n",
        "    def greet1(self):\n",
        "        return \"Hello from Parent1!\"\n",
        "\n",
        "class Parent2:\n",
        "    def greet2(self):\n",
        "        return \"Hello from Parent2!\"\n",
        "\n",
        "class Child(Parent1, Parent2):\n",
        "    def greet_child(self):\n",
        "        return \"Hello from Child!\"\n",
        "\n",
        "obj = Child()\n",
        "print(obj.greet1())\n",
        "print(obj.greet2())\n",
        "print(obj.greet_child())\n"
      ],
      "metadata": {
        "colab": {
          "base_uri": "https://localhost:8080/"
        },
        "id": "FSMtUTE9wDlj",
        "outputId": "0a27cd7f-5a98-432e-8db2-1c9162afcde5"
      },
      "execution_count": 14,
      "outputs": [
        {
          "output_type": "stream",
          "name": "stdout",
          "text": [
            "Hello from Parent1!\n",
            "Hello from Parent2!\n",
            "Hello from Child!\n"
          ]
        }
      ]
    },
    {
      "cell_type": "markdown",
      "source": [
        "Multilevel Inheritance\n",
        "Definition: A child class inherits from a parent class, which itself is a child of another class.\n",
        "Use Case: A hierarchy of inheritance."
      ],
      "metadata": {
        "id": "wBVN-eI3wRg0"
      }
    },
    {
      "cell_type": "code",
      "source": [
        "class Grandparent:\n",
        "    def greet_grandparent(self):\n",
        "        return \"Hello from Grandparent!\"\n",
        "\n",
        "class Parent(Grandparent):\n",
        "    def greet_parent(self):\n",
        "        return \"Hello from Parent!\"\n",
        "\n",
        "class Child(Parent):\n",
        "    def greet_child(self):\n",
        "        return \"Hello from Child!\"\n",
        "\n",
        "obj = Child()\n",
        "print(obj.greet_grandparent())\n",
        "print(obj.greet_parent())\n",
        "print(obj.greet_child())\n"
      ],
      "metadata": {
        "colab": {
          "base_uri": "https://localhost:8080/"
        },
        "id": "rUeEusNawVOa",
        "outputId": "8c32fe14-2063-49f3-ebad-802c1b7c89a1"
      },
      "execution_count": 15,
      "outputs": [
        {
          "output_type": "stream",
          "name": "stdout",
          "text": [
            "Hello from Grandparent!\n",
            "Hello from Parent!\n",
            "Hello from Child!\n"
          ]
        }
      ]
    },
    {
      "cell_type": "markdown",
      "source": [
        "Hierarchical Inheritance\n",
        "Definition: Multiple child classes inherit from the same parent class.\n",
        "Use Case: Shared functionality among different child classes."
      ],
      "metadata": {
        "id": "D7pct5YSwg4X"
      }
    },
    {
      "cell_type": "code",
      "source": [
        "class Parent:\n",
        "    def greet(self):\n",
        "        return \"Hello from Parent!\"\n",
        "\n",
        "class Child1(Parent):\n",
        "    def greet_child1(self):\n",
        "        return \"Hello from Child1!\"\n",
        "\n",
        "class Child2(Parent):\n",
        "    def greet_child2(self):\n",
        "        return \"Hello from Child2!\"\n",
        "\n",
        "obj1 = Child1()\n",
        "obj2 = Child2()\n",
        "print(obj1.greet())\n",
        "print(obj2.greet())\n"
      ],
      "metadata": {
        "colab": {
          "base_uri": "https://localhost:8080/"
        },
        "id": "1-noUy3xwiAP",
        "outputId": "c06296d4-5adc-4ca9-860f-4139e6b8ac0c"
      },
      "execution_count": 16,
      "outputs": [
        {
          "output_type": "stream",
          "name": "stdout",
          "text": [
            "Hello from Parent!\n",
            "Hello from Parent!\n"
          ]
        }
      ]
    },
    {
      "cell_type": "markdown",
      "source": [
        "Hybrid Inheritance\n",
        "Definition: A combination of multiple types of inheritance to form a complex structure. It may include single, multiple, or multilevel inheritance.\n",
        "Use Case: Advanced use cases requiring a combination of inheritance types."
      ],
      "metadata": {
        "id": "wPKCc2WMwowC"
      }
    },
    {
      "cell_type": "code",
      "source": [
        "class Base:\n",
        "    def greet_base(self):\n",
        "        return \"Hello from Base!\"\n",
        "\n",
        "class Parent1(Base):\n",
        "    def greet_parent1(self):\n",
        "        return \"Hello from Parent1!\"\n",
        "\n",
        "class Parent2(Base):\n",
        "    def greet_parent2(self):\n",
        "        return \"Hello from Parent2!\"\n",
        "\n",
        "class Child(Parent1, Parent2):\n",
        "    def greet_child(self):\n",
        "        return \"Hello from Child!\"\n",
        "\n",
        "obj = Child()\n",
        "print(obj.greet_base())\n",
        "print(obj.greet_parent1())\n",
        "print(obj.greet_parent2())\n",
        "print(obj.greet_child())\n"
      ],
      "metadata": {
        "colab": {
          "base_uri": "https://localhost:8080/"
        },
        "id": "NViTNVLvwsjp",
        "outputId": "f96c62bd-e26d-43f0-efa4-a9c561dbf01d"
      },
      "execution_count": 17,
      "outputs": [
        {
          "output_type": "stream",
          "name": "stdout",
          "text": [
            "Hello from Base!\n",
            "Hello from Parent1!\n",
            "Hello from Parent2!\n",
            "Hello from Child!\n"
          ]
        }
      ]
    },
    {
      "cell_type": "markdown",
      "source": [
        "What is the Method Resolution Order (MRO) in Python? How can you retrieve it programmatically"
      ],
      "metadata": {
        "id": "R7caOEH8w9GN"
      }
    },
    {
      "cell_type": "markdown",
      "source": [
        "What is the Method Resolution Order (MRO) in Python?\n",
        "The Method Resolution Order (MRO) in Python determines the sequence in which classes are searched for a method or attribute when multiple inheritance is involved. It ensures that the proper method or attribute is called in a predictable and consistent manner.\n",
        "\n",
        "Python uses the C3 Linearization (or C3 Linearization algorithm) to compute the MRO. The MRO ensures that:\n",
        "\n",
        "A class is always checked before its parent classes.\n",
        "If a class inherits from multiple classes, the MRO respects the order of inheritance specified in the child class.\n",
        "No class is visited more than once.\n",
        "How to Retrieve MRO Programmatically\n",
        "You can retrieve the MRO of a class using:\n",
        "\n",
        "The __mro__ attribute.\n",
        "The built-in mro() method."
      ],
      "metadata": {
        "id": "kMgs5RdyxNHf"
      }
    },
    {
      "cell_type": "code",
      "source": [
        "class A:\n",
        "    pass\n",
        "\n",
        "class B(A):\n",
        "    pass\n",
        "\n",
        "class C(A):\n",
        "    pass\n",
        "\n",
        "class D(B, C):\n",
        "    pass\n",
        "\n",
        "print(D.__mro__)\n",
        "print(D.mro())\n"
      ],
      "metadata": {
        "colab": {
          "base_uri": "https://localhost:8080/"
        },
        "id": "RRt7FXCzxOl8",
        "outputId": "cce8d408-d70b-44a5-82cd-3bb76d710dee"
      },
      "execution_count": 18,
      "outputs": [
        {
          "output_type": "stream",
          "name": "stdout",
          "text": [
            "(<class '__main__.D'>, <class '__main__.B'>, <class '__main__.C'>, <class '__main__.A'>, <class 'object'>)\n",
            "[<class '__main__.D'>, <class '__main__.B'>, <class '__main__.C'>, <class '__main__.A'>, <class 'object'>]\n"
          ]
        }
      ]
    },
    {
      "cell_type": "markdown",
      "source": [
        "Create an abstract base class `Shape` with an abstract method `area()`. Then create two subclasses\n",
        "`Circle` and `Rectangle` that implement the `area()` method"
      ],
      "metadata": {
        "id": "c9_swtHlxmso"
      }
    },
    {
      "cell_type": "code",
      "source": [
        "from abc import ABC, abstractmethod\n",
        "import math\n",
        "\n",
        "# Abstract Base Class\n",
        "class Shape(ABC):\n",
        "    @abstractmethod\n",
        "    def area(self):\n",
        "        pass\n",
        "\n",
        "# Subclass Circle\n",
        "class Circle(Shape):\n",
        "    def __init__(self, radius):\n",
        "        self.radius = radius\n",
        "\n",
        "    def area(self):\n",
        "        return math.pi * (self.radius ** 2)\n",
        "\n",
        "# Subclass Rectangle\n",
        "class Rectangle(Shape):\n",
        "    def __init__(self, width, height):\n",
        "        self.width = width\n",
        "        self.height = height\n",
        "\n",
        "    def area(self):\n",
        "        return self.width * self.height\n",
        "\n",
        "# Example usage\n",
        "circle = Circle(5)  # Circle with radius 5\n",
        "rectangle = Rectangle(4, 6)  # Rectangle with width 4 and height 6\n",
        "\n",
        "print(f\"Circle Area: {circle.area():.2f}\")\n",
        "print(f\"Rectangle Area: {rectangle.area()}\")\n"
      ],
      "metadata": {
        "colab": {
          "base_uri": "https://localhost:8080/"
        },
        "id": "vOnngYVhxpmH",
        "outputId": "4dcc586f-d31d-452f-b865-2e457b3794fb"
      },
      "execution_count": 19,
      "outputs": [
        {
          "output_type": "stream",
          "name": "stdout",
          "text": [
            "Circle Area: 78.54\n",
            "Rectangle Area: 24\n"
          ]
        }
      ]
    },
    {
      "cell_type": "markdown",
      "source": [
        " Demonstrate polymorphism by creating a function that can work with different shape objects to calculate\n",
        "and print their areas"
      ],
      "metadata": {
        "id": "ZHjMxj08x7Ys"
      }
    },
    {
      "cell_type": "code",
      "source": [
        "from abc import ABC, abstractmethod\n",
        "import math\n",
        "\n",
        "# Abstract Base Class\n",
        "class Shape(ABC):\n",
        "    @abstractmethod\n",
        "    def area(self):\n",
        "        pass\n",
        "\n",
        "# Subclass Circle\n",
        "class Circle(Shape):\n",
        "    def __init__(self, radius):\n",
        "        self.radius = radius\n",
        "\n",
        "    def area(self):\n",
        "        return math.pi * (self.radius ** 2)\n",
        "\n",
        "# Subclass Rectangle\n",
        "class Rectangle(Shape):\n",
        "    def __init__(self, width, height):\n",
        "        self.width = width\n",
        "        self.height = height\n",
        "\n",
        "    def area(self):\n",
        "        return self.width * self.height\n",
        "\n",
        "# Function demonstrating polymorphism\n",
        "def print_area(shape):\n",
        "    print(f\"The area of the {shape.__class__.__name__} is {shape.area():.2f}\")\n",
        "\n",
        "# Create different shape objects\n",
        "circle = Circle(7)  # Circle with radius 7\n",
        "rectangle = Rectangle(5, 10)\n",
        "\n",
        "# Call the function with different objects\n",
        "print_area(circle)\n",
        "print_area(rectangle)\n"
      ],
      "metadata": {
        "colab": {
          "base_uri": "https://localhost:8080/"
        },
        "id": "LTQIQgZlyFLg",
        "outputId": "39559536-5169-4f69-f05e-4a8a588dea63"
      },
      "execution_count": 20,
      "outputs": [
        {
          "output_type": "stream",
          "name": "stdout",
          "text": [
            "The area of the Circle is 153.94\n",
            "The area of the Rectangle is 50.00\n"
          ]
        }
      ]
    },
    {
      "cell_type": "markdown",
      "source": [
        ". Implement encapsulation in a `BankAccount` class with private attributes for `balance` and\n",
        "`account_number`. Include methods for deposit, withdrawal, and balance inquiry."
      ],
      "metadata": {
        "id": "GM3M7e5yylZQ"
      }
    },
    {
      "cell_type": "code",
      "source": [
        "class BankAccount:\n",
        "    def __init__(self, account_number, initial_balance=0):\n",
        "        self.__account_number = account_number  # Private attribute\n",
        "        self.__balance = initial_balance  # Private attribute\n",
        "\n",
        "    # Method to deposit money\n",
        "    def deposit(self, amount):\n",
        "        if amount > 0:\n",
        "            self.__balance += amount\n",
        "            print(f\"Deposited ${amount:.2f}. New balance: ${self.__balance:.2f}\")\n",
        "        else:\n",
        "            print(\"Deposit amount must be positive.\")\n",
        "\n",
        "    # Method to withdraw money\n",
        "    def withdraw(self, amount):\n",
        "        if amount > 0:\n",
        "            if amount <= self.__balance:\n",
        "                self.__balance -= amount\n",
        "                print(f\"Withdrew ${amount:.2f}. New balance: ${self.__balance:.2f}\")\n",
        "            else:\n",
        "                print(\"Insufficient funds.\")\n",
        "        else:\n",
        "            print(\"Withdrawal amount must be positive.\")\n",
        "\n",
        "    # Method to inquire the balance\n",
        "    def get_balance(self):\n",
        "        return f\"Current balance: ${self.__balance:.2f}\"\n",
        "\n",
        "    # Optional method to get account details\n",
        "    def get_account_details(self):\n",
        "        return f\"Account Number: {self.__account_number}, Balance: ${self.__balance:.2f}\"\n",
        "\n",
        "# Example Usage\n",
        "account = BankAccount(\"6010000100088404\", 975437500)\n",
        "account.deposit(50000)\n",
        "account.withdraw(37640)\n",
        "print(account.get_balance())\n",
        "print(account.get_account_details())\n",
        "\n",
        "\n"
      ],
      "metadata": {
        "colab": {
          "base_uri": "https://localhost:8080/"
        },
        "id": "LQj_tf12yrwx",
        "outputId": "698cee0d-abf7-4753-e3d1-9cc280f0896a"
      },
      "execution_count": 24,
      "outputs": [
        {
          "output_type": "stream",
          "name": "stdout",
          "text": [
            "Deposited $50000.00. New balance: $975487500.00\n",
            "Withdrew $37640.00. New balance: $975449860.00\n",
            "Current balance: $975449860.00\n",
            "Account Number: 6010000100088404, Balance: $975449860.00\n"
          ]
        }
      ]
    },
    {
      "cell_type": "markdown",
      "source": [
        " Write a class that overrides the `__str__` and `__add__` magic methods. What will these methods allow\n",
        "you to do"
      ],
      "metadata": {
        "id": "Oq7-m2u3zdRs"
      }
    },
    {
      "cell_type": "code",
      "source": [
        "class Point:\n",
        "    def __init__(self, x, y):\n",
        "        self.x = x\n",
        "        self.y = y\n",
        "\n",
        "    # Overriding __str__ for a custom string representation\n",
        "    def __str__(self):\n",
        "        return f\"Point({self.x}, {self.y})\"\n",
        "\n",
        "    # Overriding __add__ for custom behavior when using the + operator\n",
        "    def __add__(self, other):\n",
        "        if isinstance(other, Point):\n",
        "            return Point(self.x + other.x, self.y + other.y)\n",
        "        raise TypeError(\"Operands must be instances of Point\")\n",
        "p1 = Point(2, 3)\n",
        "p2 = Point(4, 5)\n",
        "\n",
        "print(p1)\n",
        "print(p2)\n",
        "\n",
        "\n",
        "p3 = p1 + p2\n",
        "print(p3)\n"
      ],
      "metadata": {
        "colab": {
          "base_uri": "https://localhost:8080/"
        },
        "id": "mKU3urP3zeh6",
        "outputId": "ff060cb9-e661-4073-bb80-ef8b6f10e177"
      },
      "execution_count": 25,
      "outputs": [
        {
          "output_type": "stream",
          "name": "stdout",
          "text": [
            "Point(2, 3)\n",
            "Point(4, 5)\n",
            "Point(6, 8)\n"
          ]
        }
      ]
    },
    {
      "cell_type": "markdown",
      "source": [
        "Create a decorator that measures and prints the execution time of a function"
      ],
      "metadata": {
        "id": "jvpm8X4Nz11d"
      }
    },
    {
      "cell_type": "code",
      "source": [
        "import time\n",
        "\n",
        "def measure_time(func):\n",
        "    def wrapper(*args, **kwargs):\n",
        "        start_time = time.time()  # Record the start time\n",
        "        result = func(*args, **kwargs)  # Execute the original function\n",
        "        end_time = time.time()  # Record the end time\n",
        "        execution_time = end_time - start_time\n",
        "        print(f\"Execution time of {func.__name__}: {execution_time:.4f} seconds\")\n",
        "        return result  # Return the result of the original function\n",
        "    return wrapper\n",
        "\n",
        "# Example usage\n",
        "@measure_time\n",
        "def slow_function():\n",
        "    time.sleep(2)  # Simulate a time-consuming task\n",
        "    print(\"Finished slow function\")\n",
        "\n",
        "@measure_time\n",
        "def add_numbers(a, b):\n",
        "    return a + b\n",
        "\n",
        "# Call the decorated functions\n",
        "slow_function()\n",
        "result = add_numbers(575, 10980)\n",
        "print(f\"Result of add_numbers: {result}\")\n"
      ],
      "metadata": {
        "colab": {
          "base_uri": "https://localhost:8080/"
        },
        "id": "2OYXkbF4z8w2",
        "outputId": "bc99ede2-3a62-42b4-c121-19bc20e580cd"
      },
      "execution_count": 27,
      "outputs": [
        {
          "output_type": "stream",
          "name": "stdout",
          "text": [
            "Finished slow function\n",
            "Execution time of slow_function: 2.0023 seconds\n",
            "Execution time of add_numbers: 0.0000 seconds\n",
            "Result of add_numbers: 11555\n"
          ]
        }
      ]
    },
    {
      "cell_type": "markdown",
      "source": [
        " Explain the concept of the Diamond Problem in multiple inheritance. How does Python resolve it"
      ],
      "metadata": {
        "id": "PVrFDFpF0SfA"
      }
    },
    {
      "cell_type": "markdown",
      "source": [
        "The Diamond Problem in Multiple Inheritance\n",
        "The Diamond Problem (also known as the Deadly Diamond of Death) arises in object-oriented programming when a class inherits from two or more classes that have a common ancestor. This creates a situation where a class might inherit from the same method or attribute multiple times, potentially leading to ambiguity in which method or attribute should be used.\n",
        "\n",
        "Here’s a simplified diagram of the Diamond Problem:"
      ],
      "metadata": {
        "id": "hTYr4ZGq02Kb"
      }
    },
    {
      "cell_type": "code",
      "source": [
        "        A\n",
        "       / \\\n",
        "      B   C\n",
        "       \\ /\n",
        "        D\n"
      ],
      "metadata": {
        "id": "V9a9_CS103W7"
      },
      "execution_count": null,
      "outputs": []
    },
    {
      "cell_type": "markdown",
      "source": [
        "Python uses the C3 Linearization (or C3 superclass linearization) algorithm to resolve the Diamond Problem. This method ensures that the classes are checked in a specific order, maintaining a consistent and predictable inheritance order.\n",
        "\n",
        "The rules are:\n",
        "\n",
        "The child class always comes first.\n",
        "Parent classes are checked from left to right, respecting the order in which they are listed in the class definition.\n",
        "If two classes have the same ancestor, Python will ensure that the ancestor is only visited once.\n",
        "This is often referred to as Method Resolution Order (MRO)."
      ],
      "metadata": {
        "id": "HyI-Cx6-0-Yu"
      }
    },
    {
      "cell_type": "code",
      "source": [
        "class A:\n",
        "    def greet(self):\n",
        "        return \"Hello from A\"\n",
        "\n",
        "class B(A):\n",
        "    def greet(self):\n",
        "        return \"Hello from B\"\n",
        "\n",
        "class C(A):\n",
        "    def greet(self):\n",
        "        return \"Hello from C\"\n",
        "\n",
        "class D(B, C):  # Diamond inheritance\n",
        "    pass\n",
        "\n",
        "obj = D()\n",
        "print(obj.greet())\n",
        "print(D.mro())\n"
      ],
      "metadata": {
        "colab": {
          "base_uri": "https://localhost:8080/"
        },
        "id": "8RlyNq8y0cQ9",
        "outputId": "e0df0cde-6e7a-4363-d249-d59f046fbc72"
      },
      "execution_count": 28,
      "outputs": [
        {
          "output_type": "stream",
          "name": "stdout",
          "text": [
            "Hello from B\n",
            "[<class '__main__.D'>, <class '__main__.B'>, <class '__main__.C'>, <class '__main__.A'>, <class 'object'>]\n"
          ]
        }
      ]
    },
    {
      "cell_type": "markdown",
      "source": [
        " Write a class method that keeps track of the number of instances created from a class"
      ],
      "metadata": {
        "id": "HFKRqULQ1HgN"
      }
    },
    {
      "cell_type": "code",
      "source": [
        "class MyClass:\n",
        "  instance_count = 0\n",
        "\n",
        "  def __init__(self):\n",
        "    MyClass.instance_count += 1\n",
        "\n",
        "  @classmethod\n",
        "  def get_instance_count(cls):\n",
        "    return cls.instance_count\n",
        "\n",
        "obj1 = MyClass()\n",
        "obj2 = MyClass()\n",
        "obj3 = MyClass()\n",
        "\n",
        "print(f\"Number of instances created: {MyClass.get_instance_count()}\")"
      ],
      "metadata": {
        "colab": {
          "base_uri": "https://localhost:8080/"
        },
        "id": "yeM203Ul1Okb",
        "outputId": "43195a33-c14a-456b-cf13-87b05fab21a2"
      },
      "execution_count": 29,
      "outputs": [
        {
          "output_type": "stream",
          "name": "stdout",
          "text": [
            "Number of instances created: 3\n"
          ]
        }
      ]
    },
    {
      "cell_type": "markdown",
      "source": [
        " Implement a static method in a class that checks if a given year is a leap year"
      ],
      "metadata": {
        "id": "LXFjWmOS15pD"
      }
    },
    {
      "cell_type": "code",
      "source": [
        "class Year:\n",
        "\n",
        "    @staticmethod\n",
        "    def is_leap_year(year):\n",
        "        # A year is a leap year if:\n",
        "        # 1. It is divisible by 4, but not divisible by 100,\n",
        "        #    or it is divisible by 400.\n",
        "        if (year % 4 == 0 and year % 100 != 0) or (year % 400 == 0):\n",
        "            return True\n",
        "        return False\n",
        "\n",
        "\n",
        "year1 = 2024\n",
        "year2 = 2023\n",
        "\n",
        "print(f\"{year1} is a leap year: {Year.is_leap_year(year1)}\")\n",
        "print(f\"{year2} is a leap year: {Year.is_leap_year(year2)}\")\n"
      ],
      "metadata": {
        "colab": {
          "base_uri": "https://localhost:8080/"
        },
        "id": "tcPfxRsX2HM9",
        "outputId": "7d9201c0-07ac-403a-a953-ab89906d5fab"
      },
      "execution_count": 30,
      "outputs": [
        {
          "output_type": "stream",
          "name": "stdout",
          "text": [
            "2024 is a leap year: True\n",
            "2023 is a leap year: False\n"
          ]
        }
      ]
    }
  ]
}